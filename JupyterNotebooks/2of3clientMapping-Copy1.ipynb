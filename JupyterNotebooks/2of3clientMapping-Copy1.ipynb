{
 "cells": [
  {
   "cell_type": "markdown",
   "id": "19304450",
   "metadata": {},
   "source": [
    "# Link2Feed Client Mapping Project: Analyzing client population to find new service opportunities"
   ]
  },
  {
   "cell_type": "markdown",
   "id": "f5e63df8",
   "metadata": {},
   "source": [
    "## Notebook 2 of 2: Mapping and Visual Analysis Notebook"
   ]
  },
  {
   "cell_type": "markdown",
   "id": "1eeb1441",
   "metadata": {},
   "source": [
    "### About the Data Set: \n",
    "This data set is pulled from the Link2Feed client intake software system that is implemented by the Food Bank of Central and Eastern NC (FB of CENC). Whenever a client is enrolled in CFSP or TEFAP programs they enter their information into the Link2Feed system so the FB of CENC and associated food pantries can track usage and ensure that persons are qualified to receive the services from the FB that they are requesting. The data set is over 2.5 GB, covers a time frame from October 2019 to present, has almost 200k rows and over 480 columns of data. Most of the data is demographic information. \n",
    "\n",
    "From this data set, the FB of CENC wants to visualize where their clients live. These clients are mostly senior citizens, who rely on governmental assistance of some sort, and may or may not have difficulty with transportation, have very low income, and generally more disadvantaged than average citizens. Because this population is disadvantaged, it is in both the client's and the Food Bank's best interest to ensure food is being distributed in the most efficient way possible. The goal of this project to is to test the hypothesis below to determine where the Food Bank can influence the addition of new pantries or add services to existing pantries. By mapping out clusters of clients geographically, and associated food pantries and distribution centers, we may be able to identify more strategic locations for food distributors which can result in more efficient services to a disadvantaged population. "
   ]
  },
  {
   "cell_type": "markdown",
   "id": "513305de",
   "metadata": {},
   "source": [
    "### Hypothesis: \n",
    "Food Bank CFSP and TEFAP client populations will receive services in a way that saves them time, and transportation costs when new food pantries are opened in locations closer to where they live that provide greater accessibility than the current pantry distribution. "
   ]
  },
  {
   "cell_type": "markdown",
   "id": "d9bb3d0e",
   "metadata": {},
   "source": [
    "### Methods: \n",
    "The project will be conducted using python, pandas, geopandas, geopy, and folium libraries. The data sources will be client information from the link2feed system provided by the Food Bank, county shapefile information made publicly available by the state of NC, and food pantry location data provided by the Food Bank. These three sources will be integrated into an interactive map that will be distributed to the Food Bank as a tool to aid in decision making. Finally, this project will be broken down into two separate notebooks. Notebook 1 is for importing, cleaning and combining data to prepare for analysis. Notebook two is designed for map creation and will be used as a presentation tool."
   ]
  },
  {
   "cell_type": "markdown",
   "id": "40863b2c",
   "metadata": {},
   "source": [
    "### Notes: "
   ]
  },
  {
   "cell_type": "markdown",
   "id": "55e580ff",
   "metadata": {},
   "source": [
    "## Part 1: Data Import"
   ]
  },
  {
   "cell_type": "code",
   "execution_count": 1,
   "id": "1572d06e",
   "metadata": {},
   "outputs": [],
   "source": [
    "import geopandas as gpd\n",
    "import pandas as pd\n",
    "import numpy as np\n",
    "import folium\n",
    "import folium.plugins as plugins\n",
    "import fiona"
   ]
  },
  {
   "cell_type": "code",
   "execution_count": 2,
   "id": "2c157745",
   "metadata": {},
   "outputs": [
    {
     "ename": "CRSError",
     "evalue": "Invalid projection: epsg:4326: (Internal Proj Error: proj_create: SQLite error on SELECT name, type, coordinate_system_auth_name, coordinate_system_code, datum_auth_name, datum_code, area_of_use_auth_name, area_of_use_code, text_definition, deprecated FROM geodetic_crs WHERE auth_name = ? AND code = ?: no such column: area_of_use_auth_name)",
     "output_type": "error",
     "traceback": [
      "\u001b[1;31m---------------------------------------------------------------------------\u001b[0m",
      "\u001b[1;31mCRSError\u001b[0m                                  Traceback (most recent call last)",
      "Input \u001b[1;32mIn [2]\u001b[0m, in \u001b[0;36m<cell line: 10>\u001b[1;34m()\u001b[0m\n\u001b[0;32m      7\u001b[0m agency \u001b[38;5;241m=\u001b[39m pd\u001b[38;5;241m.\u001b[39mread_csv(\u001b[38;5;124mr\u001b[39m\u001b[38;5;124m\"\u001b[39m\u001b[38;5;124mC:\u001b[39m\u001b[38;5;124m\\\u001b[39m\u001b[38;5;124mUsers\u001b[39m\u001b[38;5;124m\\\u001b[39m\u001b[38;5;124mhtwal\u001b[39m\u001b[38;5;124m\\\u001b[39m\u001b[38;5;124mJupyter Projects\u001b[39m\u001b[38;5;124m\\\u001b[39m\u001b[38;5;124m6a.food_bank_client_mapping\u001b[39m\u001b[38;5;124m\\\u001b[39m\u001b[38;5;124mFinal Data\u001b[39m\u001b[38;5;124m\\\u001b[39m\u001b[38;5;124magencyDfFinal.csv\u001b[39m\u001b[38;5;124m\"\u001b[39m)\n\u001b[0;32m      9\u001b[0m \u001b[38;5;66;03m#NC counties data set\u001b[39;00m\n\u001b[1;32m---> 10\u001b[0m county \u001b[38;5;241m=\u001b[39m \u001b[43mgpd\u001b[49m\u001b[38;5;241;43m.\u001b[39;49m\u001b[43mread_file\u001b[49m\u001b[43m(\u001b[49m\u001b[38;5;124;43mr\u001b[39;49m\u001b[38;5;124;43m\"\u001b[39;49m\u001b[38;5;124;43mC:\u001b[39;49m\u001b[38;5;124;43m\\\u001b[39;49m\u001b[38;5;124;43mUsers\u001b[39;49m\u001b[38;5;124;43m\\\u001b[39;49m\u001b[38;5;124;43mhtwal\u001b[39;49m\u001b[38;5;124;43m\\\u001b[39;49m\u001b[38;5;124;43mJupyter Projects\u001b[39;49m\u001b[38;5;124;43m\\\u001b[39;49m\u001b[38;5;124;43m6a.food_bank_client_mapping\u001b[39;49m\u001b[38;5;124;43m\\\u001b[39;49m\u001b[38;5;124;43mRaw Data\u001b[39;49m\u001b[38;5;124;43m\\\u001b[39;49m\u001b[38;5;124;43mNCDOT_County_Boundaries2.geojson\u001b[39;49m\u001b[38;5;124;43m\"\u001b[39;49m\u001b[43m)\u001b[49m\n",
      "File \u001b[1;32m~\\anaconda3\\lib\\site-packages\\geopandas\\io\\file.py:203\u001b[0m, in \u001b[0;36m_read_file\u001b[1;34m(filename, bbox, mask, rows, **kwargs)\u001b[0m\n\u001b[0;32m    198\u001b[0m \u001b[38;5;28;01mif\u001b[39;00m kwargs\u001b[38;5;241m.\u001b[39mget(\u001b[38;5;124m\"\u001b[39m\u001b[38;5;124mignore_geometry\u001b[39m\u001b[38;5;124m\"\u001b[39m, \u001b[38;5;28;01mFalse\u001b[39;00m):\n\u001b[0;32m    199\u001b[0m     \u001b[38;5;28;01mreturn\u001b[39;00m pd\u001b[38;5;241m.\u001b[39mDataFrame(\n\u001b[0;32m    200\u001b[0m         [record[\u001b[38;5;124m\"\u001b[39m\u001b[38;5;124mproperties\u001b[39m\u001b[38;5;124m\"\u001b[39m] \u001b[38;5;28;01mfor\u001b[39;00m record \u001b[38;5;129;01min\u001b[39;00m f_filt], columns\u001b[38;5;241m=\u001b[39mcolumns\n\u001b[0;32m    201\u001b[0m     )\n\u001b[1;32m--> 203\u001b[0m \u001b[38;5;28;01mreturn\u001b[39;00m \u001b[43mGeoDataFrame\u001b[49m\u001b[38;5;241;43m.\u001b[39;49m\u001b[43mfrom_features\u001b[49m\u001b[43m(\u001b[49m\n\u001b[0;32m    204\u001b[0m \u001b[43m    \u001b[49m\u001b[43mf_filt\u001b[49m\u001b[43m,\u001b[49m\u001b[43m \u001b[49m\u001b[43mcrs\u001b[49m\u001b[38;5;241;43m=\u001b[39;49m\u001b[43mcrs\u001b[49m\u001b[43m,\u001b[49m\u001b[43m \u001b[49m\u001b[43mcolumns\u001b[49m\u001b[38;5;241;43m=\u001b[39;49m\u001b[43mcolumns\u001b[49m\u001b[43m \u001b[49m\u001b[38;5;241;43m+\u001b[39;49m\u001b[43m \u001b[49m\u001b[43m[\u001b[49m\u001b[38;5;124;43m\"\u001b[39;49m\u001b[38;5;124;43mgeometry\u001b[39;49m\u001b[38;5;124;43m\"\u001b[39;49m\u001b[43m]\u001b[49m\n\u001b[0;32m    205\u001b[0m \u001b[43m\u001b[49m\u001b[43m)\u001b[49m\n",
      "File \u001b[1;32m~\\anaconda3\\lib\\site-packages\\geopandas\\geodataframe.py:587\u001b[0m, in \u001b[0;36mGeoDataFrame.from_features\u001b[1;34m(cls, features, crs, columns)\u001b[0m\n\u001b[0;32m    585\u001b[0m     row\u001b[38;5;241m.\u001b[39mupdate(feature[\u001b[38;5;124m\"\u001b[39m\u001b[38;5;124mproperties\u001b[39m\u001b[38;5;124m\"\u001b[39m])\n\u001b[0;32m    586\u001b[0m     rows\u001b[38;5;241m.\u001b[39mappend(row)\n\u001b[1;32m--> 587\u001b[0m \u001b[38;5;28;01mreturn\u001b[39;00m \u001b[43mGeoDataFrame\u001b[49m\u001b[43m(\u001b[49m\u001b[43mrows\u001b[49m\u001b[43m,\u001b[49m\u001b[43m \u001b[49m\u001b[43mcolumns\u001b[49m\u001b[38;5;241;43m=\u001b[39;49m\u001b[43mcolumns\u001b[49m\u001b[43m,\u001b[49m\u001b[43m \u001b[49m\u001b[43mcrs\u001b[49m\u001b[38;5;241;43m=\u001b[39;49m\u001b[43mcrs\u001b[49m\u001b[43m)\u001b[49m\n",
      "File \u001b[1;32m~\\anaconda3\\lib\\site-packages\\geopandas\\geodataframe.py:109\u001b[0m, in \u001b[0;36mGeoDataFrame.__init__\u001b[1;34m(self, geometry, crs, *args, **kwargs)\u001b[0m\n\u001b[0;32m    105\u001b[0m     \u001b[38;5;28msuper\u001b[39m(GeoDataFrame, \u001b[38;5;28mself\u001b[39m)\u001b[38;5;241m.\u001b[39m\u001b[38;5;21m__init__\u001b[39m(\u001b[38;5;241m*\u001b[39margs, \u001b[38;5;241m*\u001b[39m\u001b[38;5;241m*\u001b[39mkwargs)\n\u001b[0;32m    107\u001b[0m \u001b[38;5;66;03m# need to set this before calling self['geometry'], because\u001b[39;00m\n\u001b[0;32m    108\u001b[0m \u001b[38;5;66;03m# getitem accesses crs\u001b[39;00m\n\u001b[1;32m--> 109\u001b[0m \u001b[38;5;28mself\u001b[39m\u001b[38;5;241m.\u001b[39m_crs \u001b[38;5;241m=\u001b[39m \u001b[43mCRS\u001b[49m\u001b[38;5;241;43m.\u001b[39;49m\u001b[43mfrom_user_input\u001b[49m\u001b[43m(\u001b[49m\u001b[43mcrs\u001b[49m\u001b[43m)\u001b[49m \u001b[38;5;28;01mif\u001b[39;00m crs \u001b[38;5;28;01melse\u001b[39;00m \u001b[38;5;28;01mNone\u001b[39;00m\n\u001b[0;32m    111\u001b[0m \u001b[38;5;66;03m# set_geometry ensures the geometry data have the proper dtype,\u001b[39;00m\n\u001b[0;32m    112\u001b[0m \u001b[38;5;66;03m# but is not called if `geometry=None` ('geometry' column present\u001b[39;00m\n\u001b[0;32m    113\u001b[0m \u001b[38;5;66;03m# in the data), so therefore need to ensure it here manually\u001b[39;00m\n\u001b[0;32m    114\u001b[0m \u001b[38;5;66;03m# but within a try/except because currently non-geometries are\u001b[39;00m\n\u001b[0;32m    115\u001b[0m \u001b[38;5;66;03m# allowed in that case\u001b[39;00m\n\u001b[0;32m    116\u001b[0m \u001b[38;5;66;03m# TODO do we want to raise / return normal DataFrame in this case?\u001b[39;00m\n\u001b[0;32m    117\u001b[0m \u001b[38;5;28;01mif\u001b[39;00m geometry \u001b[38;5;129;01mis\u001b[39;00m \u001b[38;5;28;01mNone\u001b[39;00m \u001b[38;5;129;01mand\u001b[39;00m \u001b[38;5;124m\"\u001b[39m\u001b[38;5;124mgeometry\u001b[39m\u001b[38;5;124m\"\u001b[39m \u001b[38;5;129;01min\u001b[39;00m \u001b[38;5;28mself\u001b[39m\u001b[38;5;241m.\u001b[39mcolumns:\n\u001b[0;32m    118\u001b[0m     \u001b[38;5;66;03m# only if we have actual geometry values -> call set_geometry\u001b[39;00m\n",
      "File \u001b[1;32m~\\anaconda3\\lib\\site-packages\\pyproj\\crs\\crs.py:440\u001b[0m, in \u001b[0;36mCRS.from_user_input\u001b[1;34m(value, **kwargs)\u001b[0m\n\u001b[0;32m    438\u001b[0m \u001b[38;5;28;01mif\u001b[39;00m \u001b[38;5;28misinstance\u001b[39m(value, CRS):\n\u001b[0;32m    439\u001b[0m     \u001b[38;5;28;01mreturn\u001b[39;00m value\n\u001b[1;32m--> 440\u001b[0m \u001b[38;5;28;01mreturn\u001b[39;00m CRS(value, \u001b[38;5;241m*\u001b[39m\u001b[38;5;241m*\u001b[39mkwargs)\n",
      "File \u001b[1;32m~\\anaconda3\\lib\\site-packages\\pyproj\\crs\\crs.py:296\u001b[0m, in \u001b[0;36mCRS.__init__\u001b[1;34m(self, projparams, **kwargs)\u001b[0m\n\u001b[0;32m    293\u001b[0m     projkwargs \u001b[38;5;241m=\u001b[39m _prepare_from_dict(kwargs, allow_json\u001b[38;5;241m=\u001b[39m\u001b[38;5;28;01mFalse\u001b[39;00m)\n\u001b[0;32m    294\u001b[0m     projstring \u001b[38;5;241m=\u001b[39m _prepare_from_string(\u001b[38;5;124m\"\u001b[39m\u001b[38;5;124m \u001b[39m\u001b[38;5;124m\"\u001b[39m\u001b[38;5;241m.\u001b[39mjoin((projstring, projkwargs)))\n\u001b[1;32m--> 296\u001b[0m \u001b[38;5;28;43msuper\u001b[39;49m\u001b[43m(\u001b[49m\u001b[43m)\u001b[49m\u001b[38;5;241;43m.\u001b[39;49m\u001b[38;5;21;43m__init__\u001b[39;49m\u001b[43m(\u001b[49m\u001b[43mprojstring\u001b[49m\u001b[43m)\u001b[49m\n",
      "File \u001b[1;32mpyproj/_crs.pyx:2338\u001b[0m, in \u001b[0;36mpyproj._crs._CRS.__init__\u001b[1;34m()\u001b[0m\n",
      "\u001b[1;31mCRSError\u001b[0m: Invalid projection: epsg:4326: (Internal Proj Error: proj_create: SQLite error on SELECT name, type, coordinate_system_auth_name, coordinate_system_code, datum_auth_name, datum_code, area_of_use_auth_name, area_of_use_code, text_definition, deprecated FROM geodetic_crs WHERE auth_name = ? AND code = ?: no such column: area_of_use_auth_name)"
     ]
    }
   ],
   "source": [
    "#read in all data sets \n",
    "\n",
    "#client population data set\n",
    "clients = pd.read_csv(r\"C:\\Users\\htwal\\Jupyter Projects\\6a.food_bank_client_mapping\\Processed Data\\ClientMapping.csv\")\n",
    "\n",
    "#facility locations data set\n",
    "agency = pd.read_csv(r\"C:\\Users\\htwal\\Jupyter Projects\\6a.food_bank_client_mapping\\Final Data\\agencyDfFinal.csv\")\n",
    "\n",
    "#NC counties data set\n",
    "county = gpd.read_file(r\"C:\\Users\\htwal\\Jupyter Projects\\6a.food_bank_client_mapping\\Raw Data\\NCDOT_County_Boundaries2.geojson\")\n"
   ]
  },
  {
   "cell_type": "markdown",
   "id": "70345397",
   "metadata": {},
   "source": [
    "### County wrangling"
   ]
  },
  {
   "cell_type": "code",
   "execution_count": null,
   "id": "c42e4932",
   "metadata": {},
   "outputs": [],
   "source": [
    "counties = ['Brunswick', 'Carteret', 'Chatham', 'Columbus', 'Craven', 'Duplin', 'Durham', 'Edgecombe', 'Franklin',\n",
    "            'Granville', 'Greene', 'Halifax', 'Harnett', 'Johnston', 'Jones', 'Lee', 'Lenoir', 'Moore', 'Nash',\n",
    "            'New Hanover', 'Onslow', 'Orange', 'Pamlico', 'Pender', 'Person', 'Pitt', 'Richmond', 'Sampson', \n",
    "            'Scotland', 'Vance', 'Wake', 'Warren', 'Wayne', 'Wilson']\n",
    "\n",
    "county = county[county['CountyName'].isin(counties)]\n",
    "raliegh = ['Duplin', 'Franklin', 'Halifax', 'Harnett', 'Johnston', 'Nash', 'Sampson', 'Wake', 'Warren', 'Wayne']\n",
    "durham = ['Chatham', 'Durham', 'Granville', 'Orange', 'Person', 'Vance']\n",
    "newBern = ['Carteret', 'Craven', 'Jones', 'Onslow', 'Pamlico']\n",
    "wilmington = ['Brunswick', 'Columbus', 'New Hanover', 'Pender']\n",
    "greenville = ['Edgecombe', 'Greene', 'Lenoir', 'Pitt', 'Wilson']\n",
    "sandhills = ['Lee', 'Moore', 'Richmond', 'Scotland']"
   ]
  },
  {
   "cell_type": "markdown",
   "id": "f1836b40",
   "metadata": {},
   "source": [
    "### CFSP and TEFAP client Populations with Food Pantry Locations"
   ]
  },
  {
   "cell_type": "code",
   "execution_count": null,
   "id": "41e0126c",
   "metadata": {},
   "outputs": [],
   "source": [
    "#split the clients data frame into three different dfs\n",
    "csfpClients = clients[clients['Program Name'] == 'CSFP Visit']\n",
    "tefapClients = clients[clients['Program Name'] == 'TEFAP Pantry Visit']\n",
    "fpClients = clients[clients['Program Name'] == 'Food Pantry Visit']"
   ]
  },
  {
   "cell_type": "code",
   "execution_count": null,
   "id": "393e47b3",
   "metadata": {},
   "outputs": [],
   "source": [
    "agency.info()"
   ]
  },
  {
   "cell_type": "code",
   "execution_count": null,
   "id": "056fa855",
   "metadata": {},
   "outputs": [],
   "source": [
    "agency['CSFP'] = agency['CSFP'].fillna('')\n",
    "agency['TEFAP'] = agency['TEFAP'].fillna('')\n",
    "agency['Services'] = agency['CSFP'] + ' ' + agency['TEFAP']\n",
    "agency['Services'] = agency['Services'].str.strip()"
   ]
  },
  {
   "cell_type": "code",
   "execution_count": null,
   "id": "c348ee43",
   "metadata": {},
   "outputs": [],
   "source": [
    "agency['Services'].value_counts()"
   ]
  },
  {
   "cell_type": "code",
   "execution_count": null,
   "id": "f527544f",
   "metadata": {},
   "outputs": [],
   "source": [
    "#concat strings for the pop up icon\n",
    "agency['popup'] = agency['Site Name Master'] + ' / ' + agency['Services'] + ' / ' + agency['Score'].astype(str)"
   ]
  },
  {
   "cell_type": "markdown",
   "id": "8bc1ae62",
   "metadata": {},
   "source": [
    "### Map Code"
   ]
  },
  {
   "cell_type": "code",
   "execution_count": null,
   "id": "00559470",
   "metadata": {},
   "outputs": [],
   "source": [
    "#generate df's that contain each facility by location_desc\n",
    "agencyTefap = agency[(agency['Services'] == 'TEFAP') | (agency['Services'] == 'TEFAP TEMP')]\n",
    "agencyCsfp = agency[(agency['Services'] == 'CSFP')]\n",
    "agencyNone = agency[(agency['Services'] == '')]\n",
    "agencyCsfpTefap = agency[(agency['Services'] == 'CSFP TEFAP') | (agency['Services'] == 'CSFP TEFAP TEMP')]"
   ]
  },
  {
   "cell_type": "markdown",
   "id": "7c8fae82",
   "metadata": {},
   "source": [
    "color coding:\n",
    "1. = Beige - agency present only in master agency dataset\n",
    "2. = Gray - agency present only in distribution dataset\n",
    "3. = Orange - agency present in master and distribution sets\n",
    "4. = Red - agency present only in link2feed dataset\n",
    "5. = Light Blue - agency present in master and link2feed dataset\n",
    "6. = Dark Blue - agency present in distribution and link2feed data sets only\n",
    "7. = Green - agency present in all three datasets"
   ]
  },
  {
   "cell_type": "code",
   "execution_count": null,
   "id": "0b337259",
   "metadata": {
    "scrolled": true
   },
   "outputs": [],
   "source": [
    "mp = folium.Map(\n",
    "    location=[34.39109797893491, -78.13374537548596],\n",
    "    tiles=\"cartodbpositron\",\n",
    "    zoom_start=8,\n",
    ")\n",
    "\n",
    "#plotting county geoJSON\n",
    "fga = folium.FeatureGroup(name='Counties')\n",
    "countyStyleFunction = lambda x:{'fillOpacity':0.1}\n",
    "countypop = folium.features.GeoJsonPopup(fields=['CountyName'])\n",
    "fga.add_child(folium.features.GeoJson(county, style_function=countyStyleFunction, popup=countypop))\n",
    "    \n",
    "#plotting the three different types of clients:\n",
    "def zipperDot(df, col1, col2):\n",
    "    lat = df[col1].tolist()\n",
    "    lon = df[col2].tolist()\n",
    "    latLon = list(zip(lat, lon))\n",
    "    return latLon\n",
    "\n",
    "fgb = folium.FeatureGroup(name=\"CSFP visit\", show=False)\n",
    "csfp = list(zipperDot(csfpClients, 'Latitude', 'Longitude')) \n",
    "for lat, lon in csfp:\n",
    "    fgb.add_child(folium.CircleMarker(location=[lat, lon], radius=1, color='blue'))\n",
    "\n",
    "fgc = folium.FeatureGroup(name=\"TEFAP visit\", show=False)\n",
    "tefap = list(zipperDot(tefapClients, 'Latitude', 'Longitude')) \n",
    "for lat, lon in tefap:\n",
    "    fgc.add_child(folium.CircleMarker(location=[lat, lon], radius=1, color='green'))\n",
    "    \n",
    "fgd = folium.FeatureGroup(name=\"Food Pantry visit\", show=False)\n",
    "fpv = list(zipperDot(fpClients, 'Latitude', 'Longitude')) \n",
    "for lat, lon in fpv:\n",
    "    fgd.add_child(folium.CircleMarker(location=[lat, lon], radius=1, color='red'))\n",
    "    \n",
    "#add in pantrys: (color based on ser, vices offered, and icon based on score)\n",
    "def zipperPantry(df, col1, col2, col3, col4):\n",
    "    lat = df[col1].tolist()\n",
    "    lon = df[col2].tolist()\n",
    "    pop = df[col3].tolist()\n",
    "    score = df[col4].tolist()\n",
    "    info = list(zip(lat, lon, pop, score))\n",
    "    return info\n",
    "\n",
    "fge = folium.FeatureGroup(name=\"CSFP pantry\", show=False)\n",
    "csfpPantry = list(zipperPantry(agencyCsfp, 'Lat', 'Lon', 'popup', 'Score')) \n",
    "for lat, lon, pop, score in csfpPantry:\n",
    "    fge.add_child(folium.Marker(location=[lat, lon], popup=pop, icon=folium.Icon(icon='fa-shopping-basket', prefix='fa', color='blue')))\n",
    "\n",
    "fgf = folium.FeatureGroup(name=\"TEFAP pantry\", show=False)\n",
    "tefapPantry = list(zipperPantry(agencyTefap, 'Lat', 'Lon', 'popup', 'Score')) \n",
    "for lat, lon, pop, score in tefapPantry:\n",
    "    fgf.add_child(folium.Marker(location=[lat, lon], popup=pop, icon=folium.Icon(icon='fa-shopping-basket', prefix='fa', color='green')))\n",
    "    \n",
    "fgg = folium.FeatureGroup(name=\"No Services\", show=False)\n",
    "nonePantry = list(zipperPantry(agencyNone, 'Lat', 'Lon', 'popup', 'Score')) \n",
    "for lat, lon, pop, score in nonePantry:\n",
    "    fgg.add_child(folium.Marker(location=[lat, lon], popup=pop, icon=folium.Icon(icon='fa-shopping-basket', prefix='fa', color='red')))\n",
    "    \n",
    "fgh = folium.FeatureGroup(name=\"CSFP TEFAP pantry\", show=False)\n",
    "bothPantry = list(zipperPantry(agencyCsfpTefap, 'Lat', 'Lon', 'popup', 'Score')) \n",
    "for lat, lon, pop, score in bothPantry:\n",
    "    fgh.add_child(folium.Marker(location=[lat, lon], popup=pop, icon=folium.Icon(icon='fa-diamond', prefix='fa', color='gray')))\n",
    "\n",
    "#add plugins\n",
    "folium.plugins.MeasureControl(primary_length_unit='miles').add_to(mp)\n",
    "\n",
    "mp.add_child(fga)\n",
    "mp.add_child(fgb)\n",
    "mp.add_child(fgc)\n",
    "mp.add_child(fgd)\n",
    "mp.add_child(fge)\n",
    "mp.add_child(fgf)\n",
    "mp.add_child(fgg)\n",
    "mp.add_child(fgh)\n",
    "mp.add_child(folium.LayerControl())\n",
    "\n",
    "mp.save('ballerMap.html')"
   ]
  }
 ],
 "metadata": {
  "kernelspec": {
   "display_name": "Python 3 (ipykernel)",
   "language": "python",
   "name": "python3"
  },
  "language_info": {
   "codemirror_mode": {
    "name": "ipython",
    "version": 3
   },
   "file_extension": ".py",
   "mimetype": "text/x-python",
   "name": "python",
   "nbconvert_exporter": "python",
   "pygments_lexer": "ipython3",
   "version": "3.9.12"
  }
 },
 "nbformat": 4,
 "nbformat_minor": 5
}
