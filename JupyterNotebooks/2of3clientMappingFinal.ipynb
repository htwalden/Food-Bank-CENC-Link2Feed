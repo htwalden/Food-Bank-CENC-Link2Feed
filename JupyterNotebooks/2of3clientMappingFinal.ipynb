{
 "cells": [
  {
   "cell_type": "markdown",
   "id": "19304450",
   "metadata": {},
   "source": [
    "# Link2Feed Client Mapping Project: Analyzing client population to find new service opportunities"
   ]
  },
  {
   "cell_type": "markdown",
   "id": "f5e63df8",
   "metadata": {},
   "source": [
    "## Notebook 2 of 2: Mapping and Visual Analysis Notebook"
   ]
  },
  {
   "cell_type": "markdown",
   "id": "1eeb1441",
   "metadata": {},
   "source": [
    "### About the Data Set: \n",
    "This data set is pulled from the Link2Feed client intake software system that is implemented by the Food Bank of Central and Eastern NC (FB of CENC). Whenever a client is enrolled in CFSP or TEFAP programs they enter their information into the Link2Feed system so the FB of CENC and associated food pantries can track usage and ensure that persons are qualified to receive the services from the FB that they are requesting. The data set is over 2.5 GB, covers a time frame from October 2019 to present, has almost 200k rows and over 480 columns of data. Most of the data is demographic information. \n",
    "\n",
    "From this data set, the FB of CENC wants to visualize where their clients live. These clients are mostly senior citizens, who rely on governmental assistance of some sort, and may or may not have difficulty with transportation, have very low income, and generally more disadvantaged than average citizens. Because this population is disadvantaged, it is in both the client's and the Food Bank's best interest to ensure food is being distributed in the most efficient way possible. The goal of this project to is to test the hypothesis below to determine where the Food Bank can influence the addition of new pantries or add services to existing pantries. By mapping out clusters of clients geographically, and associated food pantries and distribution centers, we may be able to identify more strategic locations for food distributors which can result in more efficient services to a disadvantaged population. "
   ]
  },
  {
   "cell_type": "markdown",
   "id": "513305de",
   "metadata": {},
   "source": [
    "### Hypothesis: \n",
    "Food Bank CFSP and TEFAP client populations will receive services in a way that saves them time, and transportation costs when new food pantries are opened in locations closer to where they live that provide greater accessibility than the current pantry distribution. "
   ]
  },
  {
   "cell_type": "markdown",
   "id": "d9bb3d0e",
   "metadata": {},
   "source": [
    "### Methods: \n",
    "The project will be conducted using python, pandas, geopandas, geopy, and folium libraries. The data sources will be client information from the link2feed system provided by the Food Bank, county shapefile information made publicly available by the state of NC, and food pantry location data provided by the Food Bank. These three sources will be integrated into an interactive map that will be distributed to the Food Bank as a tool to aid in decision making. Finally, this project will be broken down into two separate notebooks. Notebook 1 is for importing, cleaning and combining data to prepare for analysis. Notebook two is designed for map creation and will be used as a presentation tool."
   ]
  },
  {
   "cell_type": "markdown",
   "id": "40863b2c",
   "metadata": {},
   "source": [
    "### Notes: "
   ]
  },
  {
   "cell_type": "markdown",
   "id": "55e580ff",
   "metadata": {},
   "source": [
    "## Part 1: Data Import"
   ]
  },
  {
   "cell_type": "code",
   "execution_count": 1,
   "id": "1572d06e",
   "metadata": {},
   "outputs": [],
   "source": [
    "import geopandas as gpd\n",
    "import pandas as pd\n",
    "import numpy as np\n",
    "import folium\n",
    "import folium.plugins as plugins"
   ]
  },
  {
   "cell_type": "code",
   "execution_count": 2,
   "id": "2c157745",
   "metadata": {},
   "outputs": [],
   "source": [
    "#read in all data sets \n",
    "\n",
    "#client population data set\n",
    "clients = pd.read_csv(r\"C:\\Users\\htwal\\Jupyter Projects\\6a.food_bank_client_mapping\\Processed Data\\ClientMapping.csv\")\n",
    "\n",
    "#facility locations data set\n",
    "agency = pd.read_csv(r\"C:\\Users\\htwal\\Jupyter Projects\\6a.food_bank_client_mapping\\Final Data\\agencyDfFinal.csv\")\n",
    "\n",
    "#NC counties data set\n",
    "county = gpd.read_file(r\"C:\\Users\\htwal\\Jupyter Projects\\6a.food_bank_client_mapping\\Raw Data\\NCDOT_County_Boundaries2.geojson\")\n"
   ]
  },
  {
   "cell_type": "markdown",
   "id": "70345397",
   "metadata": {},
   "source": [
    "### County wrangling"
   ]
  },
  {
   "cell_type": "code",
   "execution_count": 3,
   "id": "c42e4932",
   "metadata": {},
   "outputs": [],
   "source": [
    "counties = ['Brunswick', 'Carteret', 'Chatham', 'Columbus', 'Craven', 'Duplin', 'Durham', 'Edgecombe', 'Franklin',\n",
    "            'Granville', 'Greene', 'Halifax', 'Harnett', 'Johnston', 'Jones', 'Lee', 'Lenoir', 'Moore', 'Nash',\n",
    "            'New Hanover', 'Onslow', 'Orange', 'Pamlico', 'Pender', 'Person', 'Pitt', 'Richmond', 'Sampson', \n",
    "            'Scotland', 'Vance', 'Wake', 'Warren', 'Wayne', 'Wilson']\n",
    "\n",
    "county = county[county['CountyName'].isin(counties)]\n",
    "raliegh = ['Duplin', 'Franklin', 'Halifax', 'Harnett', 'Johnston', 'Nash', 'Sampson', 'Wake', 'Warren', 'Wayne']\n",
    "durham = ['Chatham', 'Durham', 'Granville', 'Orange', 'Person', 'Vance']\n",
    "newBern = ['Carteret', 'Craven', 'Jones', 'Onslow', 'Pamlico']\n",
    "wilmington = ['Brunswick', 'Columbus', 'New Hanover', 'Pender']\n",
    "greenville = ['Edgecombe', 'Greene', 'Lenoir', 'Pitt', 'Wilson']\n",
    "sandhills = ['Lee', 'Moore', 'Richmond', 'Scotland']"
   ]
  },
  {
   "cell_type": "markdown",
   "id": "f1836b40",
   "metadata": {},
   "source": [
    "### CFSP and TEFAP client Populations with Food Pantry Locations"
   ]
  },
  {
   "cell_type": "code",
   "execution_count": 4,
   "id": "41e0126c",
   "metadata": {},
   "outputs": [],
   "source": [
    "#split the clients data frame into three different dfs\n",
    "csfpClients = clients[clients['Program Name'] == 'CSFP Visit']\n",
    "tefapClients = clients[clients['Program Name'] == 'TEFAP Pantry Visit']\n",
    "fpClients = clients[clients['Program Name'] == 'Food Pantry Visit']"
   ]
  },
  {
   "cell_type": "code",
   "execution_count": 5,
   "id": "393e47b3",
   "metadata": {},
   "outputs": [
    {
     "name": "stdout",
     "output_type": "stream",
     "text": [
      "<class 'pandas.core.frame.DataFrame'>\n",
      "RangeIndex: 888 entries, 0 to 887\n",
      "Data columns (total 8 columns):\n",
      " #   Column            Non-Null Count  Dtype  \n",
      "---  ------            --------------  -----  \n",
      " 0   Unnamed: 0        886 non-null    object \n",
      " 1   Site Name Master  888 non-null    object \n",
      " 2   Lat               888 non-null    float64\n",
      " 3   Lon               888 non-null    float64\n",
      " 4   Address Master    436 non-null    object \n",
      " 5   CSFP              217 non-null    object \n",
      " 6   TEFAP             237 non-null    object \n",
      " 7   Score             888 non-null    float64\n",
      "dtypes: float64(3), object(5)\n",
      "memory usage: 55.6+ KB\n"
     ]
    }
   ],
   "source": [
    "agency.info()"
   ]
  },
  {
   "cell_type": "code",
   "execution_count": 6,
   "id": "056fa855",
   "metadata": {},
   "outputs": [],
   "source": [
    "agency['CSFP'] = agency['CSFP'].fillna('')\n",
    "agency['TEFAP'] = agency['TEFAP'].fillna('')\n",
    "agency['Services'] = agency['CSFP'] + ' ' + agency['TEFAP']\n",
    "agency['Services'] = agency['Services'].str.strip()"
   ]
  },
  {
   "cell_type": "code",
   "execution_count": 7,
   "id": "c348ee43",
   "metadata": {},
   "outputs": [
    {
     "data": {
      "text/plain": [
       "                   495\n",
       "CSFP               156\n",
       "TEFAP              137\n",
       "CSFP TEFAP          55\n",
       "TEFAP TEMP          39\n",
       "CSFP TEFAP TEMP      6\n",
       "Name: Services, dtype: int64"
      ]
     },
     "execution_count": 7,
     "metadata": {},
     "output_type": "execute_result"
    }
   ],
   "source": [
    "agency['Services'].value_counts()"
   ]
  },
  {
   "cell_type": "code",
   "execution_count": 8,
   "id": "f527544f",
   "metadata": {},
   "outputs": [],
   "source": [
    "#concat strings for the pop up icon\n",
    "agency['popup'] = agency['Site Name Master'] + ' / ' + agency['Services'] + ' / ' + agency['Score'].astype(str)"
   ]
  },
  {
   "cell_type": "markdown",
   "id": "8bc1ae62",
   "metadata": {},
   "source": [
    "### Map Code"
   ]
  },
  {
   "cell_type": "code",
   "execution_count": 9,
   "id": "00559470",
   "metadata": {},
   "outputs": [],
   "source": [
    "#generate df's that contain each facility by location_desc\n",
    "agencyTefap = agency[(agency['Services'] == 'TEFAP') | (agency['Services'] == 'TEFAP TEMP')]\n",
    "agencyCsfp = agency[(agency['Services'] == 'CSFP')]\n",
    "agencyNone = agency[(agency['Services'] == '')]\n",
    "agencyCsfpTefap = agency[(agency['Services'] == 'CSFP TEFAP') | (agency['Services'] == 'CSFP TEFAP TEMP')]"
   ]
  },
  {
   "cell_type": "markdown",
   "id": "7c8fae82",
   "metadata": {},
   "source": [
    "color coding:\n",
    "1. = Beige - agency present only in master agency dataset\n",
    "2. = Gray - agency present only in distribution dataset\n",
    "3. = Orange - agency present in master and distribution sets\n",
    "4. = Red - agency present only in link2feed dataset\n",
    "5. = Light Blue - agency present in master and link2feed dataset\n",
    "6. = Dark Blue - agency present in distribution and link2feed data sets only\n",
    "7. = Green - agency present in all three datasets"
   ]
  },
  {
   "cell_type": "code",
   "execution_count": 11,
   "id": "0b337259",
   "metadata": {
    "scrolled": true
   },
   "outputs": [],
   "source": [
    "mp = folium.Map(\n",
    "    location=[34.39109797893491, -78.13374537548596],\n",
    "    tiles=\"cartodbpositron\",\n",
    "    zoom_start=8,\n",
    ")\n",
    "\n",
    "#plotting county geoJSON\n",
    "fga = folium.FeatureGroup(name='Counties')\n",
    "countyStyleFunction = lambda x:{'fillOpacity':0.1}\n",
    "countypop = folium.features.GeoJsonPopup(fields=['CountyName'])\n",
    "fga.add_child(folium.features.GeoJson(county, style_function=countyStyleFunction, popup=countypop))\n",
    "    \n",
    "#plotting the three different types of clients:\n",
    "def zipperDot(df, col1, col2):\n",
    "    '''This function creates a list of lat/lon values from two separate series of a data frame and creates a list of tuples'''\n",
    "    lat = df[col1].tolist()\n",
    "    lon = df[col2].tolist()\n",
    "    latLon = list(zip(lat, lon))\n",
    "    return latLon\n",
    "\n",
    "fgb = folium.FeatureGroup(name=\"CSFP visit\", show=False)\n",
    "csfp = list(zipperDot(csfpClients, 'Latitude', 'Longitude')) \n",
    "for lat, lon in csfp:\n",
    "    fgb.add_child(folium.CircleMarker(location=[lat, lon], radius=1, color='blue'))\n",
    "\n",
    "fgc = folium.FeatureGroup(name=\"TEFAP visit\", show=False)\n",
    "tefap = list(zipperDot(tefapClients, 'Latitude', 'Longitude')) \n",
    "for lat, lon in tefap:\n",
    "    fgc.add_child(folium.CircleMarker(location=[lat, lon], radius=1, color='green'))\n",
    "    \n",
    "fgd = folium.FeatureGroup(name=\"Food Pantry visit\", show=False)\n",
    "fpv = list(zipperDot(fpClients, 'Latitude', 'Longitude')) \n",
    "for lat, lon in fpv:\n",
    "    fgd.add_child(folium.CircleMarker(location=[lat, lon], radius=1, color='red'))\n",
    "    \n",
    "#add in pantrys: (color based on ser, vices offered, and icon based on score)\n",
    "def zipperPantry(df, col1, col2, col3, col4):\n",
    "    lat = df[col1].tolist()\n",
    "    lon = df[col2].tolist()\n",
    "    pop = df[col3].tolist()\n",
    "    score = df[col4].tolist()\n",
    "    info = list(zip(lat, lon, pop, score))\n",
    "    return info\n",
    "\n",
    "fge = folium.FeatureGroup(name=\"CSFP pantry\", show=False)\n",
    "csfpPantry = list(zipperPantry(agencyCsfp, 'Lat', 'Lon', 'popup', 'Score')) \n",
    "for lat, lon, pop, score in csfpPantry:\n",
    "    fge.add_child(folium.Marker(location=[lat, lon], popup=pop, icon=folium.Icon(icon='fa-shopping-basket', prefix='fa', color='blue')))\n",
    "\n",
    "fgf = folium.FeatureGroup(name=\"TEFAP pantry\", show=False)\n",
    "tefapPantry = list(zipperPantry(agencyTefap, 'Lat', 'Lon', 'popup', 'Score')) \n",
    "for lat, lon, pop, score in tefapPantry:\n",
    "    fgf.add_child(folium.Marker(location=[lat, lon], popup=pop, icon=folium.Icon(icon='fa-shopping-basket', prefix='fa', color='green')))\n",
    "    \n",
    "fgg = folium.FeatureGroup(name=\"No Services\", show=False)\n",
    "nonePantry = list(zipperPantry(agencyNone, 'Lat', 'Lon', 'popup', 'Score')) \n",
    "for lat, lon, pop, score in nonePantry:\n",
    "    fgg.add_child(folium.Marker(location=[lat, lon], popup=pop, icon=folium.Icon(icon='fa-shopping-basket', prefix='fa', color='red')))\n",
    "    \n",
    "fgh = folium.FeatureGroup(name=\"CSFP TEFAP pantry\", show=False)\n",
    "bothPantry = list(zipperPantry(agencyCsfpTefap, 'Lat', 'Lon', 'popup', 'Score')) \n",
    "for lat, lon, pop, score in bothPantry:\n",
    "    fgh.add_child(folium.Marker(location=[lat, lon], popup=pop, icon=folium.Icon(icon='fa-diamond', prefix='fa', color='gray')))\n",
    "\n",
    "#add plugins\n",
    "folium.plugins.MeasureControl(primary_length_unit='miles').add_to(mp)\n",
    "\n",
    "mp.add_child(fga)\n",
    "mp.add_child(fgb)\n",
    "mp.add_child(fgc)\n",
    "mp.add_child(fgd)\n",
    "mp.add_child(fge)\n",
    "mp.add_child(fgf)\n",
    "mp.add_child(fgg)\n",
    "mp.add_child(fgh)\n",
    "mp.add_child(folium.LayerControl())\n",
    "\n",
    "mp.save('ballerMap.html')"
   ]
  }
 ],
 "metadata": {
  "kernelspec": {
   "display_name": "Python 3 (ipykernel)",
   "language": "python",
   "name": "python3"
  },
  "language_info": {
   "codemirror_mode": {
    "name": "ipython",
    "version": 3
   },
   "file_extension": ".py",
   "mimetype": "text/x-python",
   "name": "python",
   "nbconvert_exporter": "python",
   "pygments_lexer": "ipython3",
   "version": "3.9.12"
  }
 },
 "nbformat": 4,
 "nbformat_minor": 5
}
